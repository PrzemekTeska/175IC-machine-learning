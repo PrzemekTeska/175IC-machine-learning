{
  "nbformat": 4,
  "nbformat_minor": 0,
  "metadata": {
    "colab": {
      "name": "Zad_5.ipynb",
      "provenance": [],
      "authorship_tag": "ABX9TyMhtWPPQl122+p2oZjG6S/k",
      "include_colab_link": true
    },
    "kernelspec": {
      "name": "python3",
      "display_name": "Python 3"
    }
  },
  "cells": [
    {
      "cell_type": "markdown",
      "metadata": {
        "id": "view-in-github",
        "colab_type": "text"
      },
      "source": [
        "<a href=\"https://colab.research.google.com/github/PrzemekTeska/175IC-machine-learning/blob/main/Zad_5.ipynb\" target=\"_parent\"><img src=\"https://colab.research.google.com/assets/colab-badge.svg\" alt=\"Open In Colab\"/></a>"
      ]
    },
    {
      "cell_type": "code",
      "metadata": {
        "id": "UDRFrid8LqJh"
      },
      "source": [
        "import pandas as pd\r\n",
        "import numpy as np\r\n",
        "import seaborn as sns\r\n",
        "import plotly.express as px\r\n",
        "from sklearn.datasets import load_iris\r\n",
        "from sklearn.model_selection import train_test_split\r\n",
        "from sklearn.metrics import accuracy_score\r\n",
        "from sklearn.ensemble import RandomForestClassifier\r\n",
        "from mlxtend.plotting import plot_decision_regions\r\n",
        "import matplotlib.pyplot as plt\r\n",
        "sns.set(font_scale=1.3)\r\n",
        "np.random.seed(42)\r\n"
      ],
      "execution_count": 37,
      "outputs": []
    },
    {
      "cell_type": "code",
      "metadata": {
        "id": "uakERneTMtcH"
      },
      "source": [
        "# Import datasetu IRIS i przygotowanie go do modelu\r\n",
        "raw_data = load_iris()\r\n",
        "all_data=raw_data.copy()\r\n",
        "\r\n",
        "data = all_data['data']\r\n",
        "target = all_data['target']\r\n",
        "feature_names = all_data['feature_names']\r\n",
        "target_names = all_data['target_names']\r\n",
        "\r\n",
        "df= pd.DataFrame(np.c_[data,target],columns=feature_names+['target'])"
      ],
      "execution_count": 29,
      "outputs": []
    },
    {
      "cell_type": "code",
      "metadata": {
        "colab": {
          "base_uri": "https://localhost:8080/"
        },
        "id": "dTCsLhPZM1Mg",
        "outputId": "0a36fc8e-86ef-4c01-a82d-615132b28df9"
      },
      "source": [
        "# Użycie dwóch pierwszych kolumn\r\n",
        "data = data[:, [0,1]]\r\n",
        "target = df['target'].apply(int).values\r\n",
        "\r\n",
        "print(f'{data[:5]}\\n')\r\n",
        "print(f'{target[:5]}')"
      ],
      "execution_count": 30,
      "outputs": [
        {
          "output_type": "stream",
          "text": [
            "[[5.1 3.5]\n",
            " [4.9 3. ]\n",
            " [4.7 3.2]\n",
            " [4.6 3.1]\n",
            " [5.  3.6]]\n",
            "\n",
            "[0 0 0 0 0]\n"
          ],
          "name": "stdout"
        }
      ]
    },
    {
      "cell_type": "code",
      "metadata": {
        "colab": {
          "base_uri": "https://localhost:8080/"
        },
        "id": "v8u90VVDNQQG",
        "outputId": "d161dbbd-6037-4feb-c26e-c638703a9e99"
      },
      "source": [
        "# Tworzenie lasu\r\n",
        "\r\n",
        "classifier = RandomForestClassifier(n_estimators=100)\r\n",
        "classifier.fit(data,target)"
      ],
      "execution_count": 31,
      "outputs": [
        {
          "output_type": "execute_result",
          "data": {
            "text/plain": [
              "RandomForestClassifier(bootstrap=True, ccp_alpha=0.0, class_weight=None,\n",
              "                       criterion='gini', max_depth=None, max_features='auto',\n",
              "                       max_leaf_nodes=None, max_samples=None,\n",
              "                       min_impurity_decrease=0.0, min_impurity_split=None,\n",
              "                       min_samples_leaf=1, min_samples_split=2,\n",
              "                       min_weight_fraction_leaf=0.0, n_estimators=100,\n",
              "                       n_jobs=None, oob_score=False, random_state=None,\n",
              "                       verbose=0, warm_start=False)"
            ]
          },
          "metadata": {
            "tags": []
          },
          "execution_count": 31
        }
      ]
    },
    {
      "cell_type": "code",
      "metadata": {
        "colab": {
          "base_uri": "https://localhost:8080/",
          "height": 611
        },
        "id": "AFEXiSuDO_u2",
        "outputId": "5f6ae58c-28f0-468d-c6e1-075b9a1a6ab7"
      },
      "source": [
        "# Wykres\r\n",
        "plt.figure(figsize=(10,8))\r\n",
        "plot_decision_regions(data,target,classifier)\r\n",
        "plt.xlabel(feature_names[0])\r\n",
        "plt.ylabel(feature_names[1])\r\n",
        "plt.title(f'Las losowy n_estimators=100, score={np.round(classifier.score(data,target),2)}')\r\n",
        "plt.show"
      ],
      "execution_count": 32,
      "outputs": [
        {
          "output_type": "stream",
          "text": [
            "/usr/local/lib/python3.6/dist-packages/mlxtend/plotting/decision_regions.py:244: MatplotlibDeprecationWarning:\n",
            "\n",
            "Passing unsupported keyword arguments to axis() will raise a TypeError in 3.3.\n",
            "\n"
          ],
          "name": "stderr"
        },
        {
          "output_type": "execute_result",
          "data": {
            "text/plain": [
              "<function matplotlib.pyplot.show>"
            ]
          },
          "metadata": {
            "tags": []
          },
          "execution_count": 32
        },
        {
          "output_type": "display_data",
          "data": {
            "image/png": "[encoded data removed]",
            "text/plain": [
              "<Figure size 720x576 with 1 Axes>"
            ]
          },
          "metadata": {
            "tags": []
          }
        }
      ]
    },
    {
      "cell_type": "code",
      "metadata": {
        "colab": {
          "base_uri": "https://localhost:8080/"
        },
        "id": "Iu0E8zfUQhae",
        "outputId": "d6cab01e-6922-4749-d0ae-8a918b41d775"
      },
      "source": [
        "# Podział danych na treningowe i testowe\r\n",
        "X_train, X_test,y_train,y_test = train_test_split(data,target)\r\n",
        "\r\n",
        "classifier = RandomForestClassifier(n_estimators=100)\r\n",
        "classifier.fit(X_train,y_train)\r\n",
        "\r\n",
        "y_tree_predict=classifier.predict(X_test)\r\n",
        "\r\n",
        "score = classifier.score(X_test, y_test)\r\n",
        "print(score)\r\n"
      ],
      "execution_count": 33,
      "outputs": [
        {
          "output_type": "stream",
          "text": [
            "0.7894736842105263\n"
          ],
          "name": "stdout"
        }
      ]
    },
    {
      "cell_type": "code",
      "metadata": {
        "colab": {
          "base_uri": "https://localhost:8080/"
        },
        "id": "UnSVIl3PRO9N",
        "outputId": "0bd2fb49-c6c0-4e95-933a-49428948b323"
      },
      "source": [
        "# Dokładność z accuracy_score\r\n",
        "accuracy = accuracy_score(y_test, y_tree_predict)\r\n",
        "print(accuracy)"
      ],
      "execution_count": 34,
      "outputs": [
        {
          "output_type": "stream",
          "text": [
            "0.7894736842105263\n"
          ],
          "name": "stdout"
        }
      ]
    },
    {
      "cell_type": "code",
      "metadata": {
        "colab": {
          "base_uri": "https://localhost:8080/"
        },
        "id": "z_Id0x2tRhZV",
        "outputId": "524d1089-af57-43c1-fedc-45cb0e022daa"
      },
      "source": [
        "# Najważniejsza kolumna\r\n",
        "importances = classifier.feature_importances_\r\n",
        "print(importances)"
      ],
      "execution_count": 36,
      "outputs": [
        {
          "output_type": "stream",
          "text": [
            "[0.6588592 0.3411408]\n"
          ],
          "name": "stdout"
        }
      ]
    }
  ]
}
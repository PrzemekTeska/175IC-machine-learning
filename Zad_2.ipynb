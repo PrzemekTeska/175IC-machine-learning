{
  "nbformat": 4,
  "nbformat_minor": 0,
  "metadata": {
    "colab": {
      "name": "Zad.2.ipynb",
      "provenance": [],
      "collapsed_sections": [],
      "authorship_tag": "ABX9TyO9ZAQ2wwUOocXaAs9GiksT",
      "include_colab_link": true
    },
    "kernelspec": {
      "name": "python3",
      "display_name": "Python 3"
    }
  },
  "cells": [
    {
      "cell_type": "markdown",
      "metadata": {
        "id": "view-in-github",
        "colab_type": "text"
      },
      "source": [
        "<a href=\"https://colab.research.google.com/github/PrzemekTeska/175IC-machine-learning/blob/main/Zad_2.ipynb\" target=\"_parent\"><img src=\"https://colab.research.google.com/assets/colab-badge.svg\" alt=\"Open In Colab\"/></a>"
      ]
    },
    {
      "cell_type": "code",
      "metadata": {
        "id": "x2YiPhOFIvow",
        "outputId": "c7ff958c-5424-4205-d83e-1944eb03c21f",
        "colab": {
          "base_uri": "https://localhost:8080/"
        }
      },
      "source": [
        "import pandas as pd\n",
        "import numpy as np\n",
        "from sklearn.preprocessing import LabelEncoder, StandardScaler\n",
        "from sklearn.impute import SimpleImputer\n",
        "import plotly.express as px\n",
        "from sklearn.model_selection import train_test_split\n",
        "\n",
        "\n",
        "data = {\n",
        "    'size': ['L', 'M', 'XL', 'S', 'XS', 'S', 'S', 'M', 'L', 'XXL', 'L', 'M', 'M', np.nan, 'S', 'XL', np.nan, 'S', 'M'],\n",
        "    'color': [np.nan, 'red', 'blue', np.nan, 'white', 'yellow', 'purple', 'cyan', 'black', 'black', 'white', 'blue', 'red', 'green', 'blue', 'white', 'white', 'black', 'white'],\n",
        "    'gender': ['female', 'female', 'male', np.nan, np.nan, np.nan, 'female', 'male', 'female', 'male', 'male', np.nan, 'male', 'female', 'male', 'female', 'male', 'male', 'female'],\n",
        "    'price': [90.0, 15.0, 35.0, 60.0, np.nan, 45.0, np.nan, 150.0, 180.0, 30.0, 20.0, 40.0, 50.0, 60.0, 20.0, 10.0, 40.0, 150.0, 180.0],\n",
        "    'weight': [np.nan, 40, 60, 80, np.nan, 120, 140, 160, 180, 200, 220, 240, 260, 280, 300, 320, 340, 360, 380],\n",
        "    'bought': ['yes', 'yes', 'yes', 'no', 'no', 'yes', 'no', 'yes', 'yes', 'no', 'no', 'no', 'no', 'yes', 'yes', 'no', 'no', 'yes', 'no']\n",
        "}\n",
        "\n",
        "df_raw = pd.DataFrame(data=data)\n",
        "\n",
        "df = df_raw.copy()\n",
        "\n",
        "for col in ['size', 'color', 'gender', 'bought']:\n",
        "    df[col] = df[col].astype('category')\n",
        "\n",
        "df['weight'] = df['weight'].astype('float64')    \n",
        "\n",
        "# df.info()\n",
        "\n",
        "df.describe(include='category').T\n",
        "\n",
        "# df = pd.get_dummies(data=df, drop_first=True)\n",
        "\n",
        "# scaler = StandardScaler()\n",
        "# df[['price', 'weight']] = scaler.fit_transform(df[['price', 'weight']])\n",
        "\n",
        "#ZADANIE 2\n",
        "si = SimpleImputer(missing_values=np.nan, strategy='mean')\n",
        "df['price'] = si.fit_transform(df[['price']])\n",
        "\n",
        "df_plotly = df.reset_index()\n",
        "\n",
        "#ZADANIE 3\n",
        "df_plotly['weight'] = df_plotly['weight'].interpolate()\n",
        "px.line(df_plotly, 'index', 'weight')\n",
        "\n",
        "#ZADANIE 4\n",
        "si = SimpleImputer(missing_values=np.nan, strategy='constant', fill_value='unisize')\n",
        "df['size'] = si.fit_transform(df[['size']])\n",
        "\n",
        "si = SimpleImputer(missing_values=np.nan, strategy='constant', fill_value='unisex')\n",
        "df['gender'] = si.fit_transform(df[['gender']])\n",
        "\n",
        "si = SimpleImputer(missing_values=np.nan, strategy='constant', fill_value='black')\n",
        "df['color'] = si.fit_transform(df[['color']])\n",
        "\n",
        "#ZADANIE 5\n",
        "df['cost'] = pd.cut(df['price'], bins = 3, labels=('cheap', 'normal_price', 'expensive'))\n",
        "\n",
        "#ZADANIE 6\n",
        "le = LabelEncoder()\n",
        "df['bought'] = le.fit_transform(df['bought'])\n",
        "\n",
        "\n",
        "#ZADANIE 7\n",
        "input = df[['size', 'color', 'gender', 'cost']]\n",
        "output = df['bought']\n",
        "\n",
        "x_train, x_test, y_train, y_test = train_test_split(input, output)\n",
        "print(x_train)\n",
        "print(y_train)\n"
      ],
      "execution_count": 1,
      "outputs": [
        {
          "output_type": "stream",
          "text": [
            "       size   color  gender          cost\n",
            "17        S   black    male     expensive\n",
            "2        XL    blue    male         cheap\n",
            "14        S    blue    male         cheap\n",
            "7         M    cyan    male     expensive\n",
            "0         L   black  female  normal_price\n",
            "4        XS   white  unisex  normal_price\n",
            "15       XL   white  female         cheap\n",
            "8         L   black  female     expensive\n",
            "9       XXL   black    male         cheap\n",
            "18        M   white  female     expensive\n",
            "5         S  yellow  unisex         cheap\n",
            "13  unisize   green  female         cheap\n",
            "1         M     red  female         cheap\n",
            "12        M     red    male         cheap\n",
            "17    1\n",
            "2     1\n",
            "14    1\n",
            "7     1\n",
            "0     1\n",
            "4     0\n",
            "15    0\n",
            "8     1\n",
            "9     0\n",
            "18    0\n",
            "5     1\n",
            "13    1\n",
            "1     1\n",
            "12    0\n",
            "Name: bought, dtype: int64\n"
          ],
          "name": "stdout"
        }
      ]
    }
  ]
}